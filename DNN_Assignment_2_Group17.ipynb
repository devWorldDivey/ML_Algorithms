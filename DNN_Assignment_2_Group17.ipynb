{
  "cells": [
    {
      "cell_type": "markdown",
      "metadata": {
        "id": "view-in-github",
        "colab_type": "text"
      },
      "source": [
        "<a href=\"https://colab.research.google.com/github/devWorldDivey/ML_Algorithms/blob/main/DNN_Assignment_2_Group17.ipynb\" target=\"_parent\"><img src=\"https://colab.research.google.com/assets/colab-badge.svg\" alt=\"Open In Colab\"/></a>"
      ]
    },
    {
      "cell_type": "markdown",
      "metadata": {
        "id": "9bda93ba"
      },
      "source": [
        "## Group No 17\n",
        "\n",
        "## Group Member Names:\n",
        "1. Divey Anand - 2022aa05030\n",
        "2. SHIFFIN N - 2022aa05055\n",
        "3. Dibyajyoti Sarkar - 2022aa05005\n",
        "\n",
        "## Journal used for the implemetation\n",
        "Journal title: Sentiment analysis in social media\n",
        "\n",
        "Authors: Kim et al.\n",
        "\n",
        "Journal Name: A Transformer-based Model for Sentiment Analysis of Social Media\n",
        "\n",
        "Year: 2018\n",
        "\n",
        "Dataset URL: https://www.kaggle.com/kazanova/sentiment140\n"
      ],
      "id": "9bda93ba"
    },
    {
      "cell_type": "markdown",
      "metadata": {
        "id": "0c7f7028"
      },
      "source": [
        "# 1. Import the required libraries"
      ],
      "id": "0c7f7028"
    },
    {
      "cell_type": "markdown",
      "metadata": {
        "id": "alR-D10cSUwB"
      },
      "source": [
        "We have installed the Transformers library, using pip on a Google Colab cell:\n",
        "The Transformers library is a popular library for natural language processing (NLP) tasks. It provides a variety of pre-trained models that can be used for tasks such as text classification, question answering, and natural language generation."
      ],
      "id": "alR-D10cSUwB"
    },
    {
      "cell_type": "code",
      "execution_count": 1,
      "metadata": {
        "colab": {
          "base_uri": "https://localhost:8080/"
        },
        "id": "1a096390",
        "outputId": "8e7453a2-5e88-4ed6-8503-ba0b5df0924c"
      },
      "outputs": [
        {
          "output_type": "stream",
          "name": "stdout",
          "text": [
            "Collecting transformers\n",
            "  Downloading transformers-4.33.0-py3-none-any.whl (7.6 MB)\n",
            "\u001b[2K     \u001b[90m━━━━━━━━━━━━━━━━━━━━━━━━━━━━━━━━━━━━━━━━\u001b[0m \u001b[32m7.6/7.6 MB\u001b[0m \u001b[31m66.1 MB/s\u001b[0m eta \u001b[36m0:00:00\u001b[0m\n",
            "\u001b[?25hRequirement already satisfied: filelock in /usr/local/lib/python3.10/dist-packages (from transformers) (3.12.2)\n",
            "Collecting huggingface-hub<1.0,>=0.15.1 (from transformers)\n",
            "  Downloading huggingface_hub-0.16.4-py3-none-any.whl (268 kB)\n",
            "\u001b[2K     \u001b[90m━━━━━━━━━━━━━━━━━━━━━━━━━━━━━━━━━━━━━━\u001b[0m \u001b[32m268.8/268.8 kB\u001b[0m \u001b[31m26.9 MB/s\u001b[0m eta \u001b[36m0:00:00\u001b[0m\n",
            "\u001b[?25hRequirement already satisfied: numpy>=1.17 in /usr/local/lib/python3.10/dist-packages (from transformers) (1.23.5)\n",
            "Requirement already satisfied: packaging>=20.0 in /usr/local/lib/python3.10/dist-packages (from transformers) (23.1)\n",
            "Requirement already satisfied: pyyaml>=5.1 in /usr/local/lib/python3.10/dist-packages (from transformers) (6.0.1)\n",
            "Requirement already satisfied: regex!=2019.12.17 in /usr/local/lib/python3.10/dist-packages (from transformers) (2023.6.3)\n",
            "Requirement already satisfied: requests in /usr/local/lib/python3.10/dist-packages (from transformers) (2.31.0)\n",
            "Collecting tokenizers!=0.11.3,<0.14,>=0.11.1 (from transformers)\n",
            "  Downloading tokenizers-0.13.3-cp310-cp310-manylinux_2_17_x86_64.manylinux2014_x86_64.whl (7.8 MB)\n",
            "\u001b[2K     \u001b[90m━━━━━━━━━━━━━━━━━━━━━━━━━━━━━━━━━━━━━━━━\u001b[0m \u001b[32m7.8/7.8 MB\u001b[0m \u001b[31m72.2 MB/s\u001b[0m eta \u001b[36m0:00:00\u001b[0m\n",
            "\u001b[?25hCollecting safetensors>=0.3.1 (from transformers)\n",
            "  Downloading safetensors-0.3.3-cp310-cp310-manylinux_2_17_x86_64.manylinux2014_x86_64.whl (1.3 MB)\n",
            "\u001b[2K     \u001b[90m━━━━━━━━━━━━━━━━━━━━━━━━━━━━━━━━━━━━━━━━\u001b[0m \u001b[32m1.3/1.3 MB\u001b[0m \u001b[31m55.3 MB/s\u001b[0m eta \u001b[36m0:00:00\u001b[0m\n",
            "\u001b[?25hRequirement already satisfied: tqdm>=4.27 in /usr/local/lib/python3.10/dist-packages (from transformers) (4.66.1)\n",
            "Requirement already satisfied: fsspec in /usr/local/lib/python3.10/dist-packages (from huggingface-hub<1.0,>=0.15.1->transformers) (2023.6.0)\n",
            "Requirement already satisfied: typing-extensions>=3.7.4.3 in /usr/local/lib/python3.10/dist-packages (from huggingface-hub<1.0,>=0.15.1->transformers) (4.7.1)\n",
            "Requirement already satisfied: charset-normalizer<4,>=2 in /usr/local/lib/python3.10/dist-packages (from requests->transformers) (3.2.0)\n",
            "Requirement already satisfied: idna<4,>=2.5 in /usr/local/lib/python3.10/dist-packages (from requests->transformers) (3.4)\n",
            "Requirement already satisfied: urllib3<3,>=1.21.1 in /usr/local/lib/python3.10/dist-packages (from requests->transformers) (2.0.4)\n",
            "Requirement already satisfied: certifi>=2017.4.17 in /usr/local/lib/python3.10/dist-packages (from requests->transformers) (2023.7.22)\n",
            "Installing collected packages: tokenizers, safetensors, huggingface-hub, transformers\n",
            "Successfully installed huggingface-hub-0.16.4 safetensors-0.3.3 tokenizers-0.13.3 transformers-4.33.0\n"
          ]
        }
      ],
      "source": [
        "!pip install transformers"
      ],
      "id": "1a096390"
    },
    {
      "cell_type": "markdown",
      "metadata": {
        "id": "VHO3LiQPS3wK"
      },
      "source": [
        ":After the installation is completed, we will import the torch to add some layers for fine-tuning, Roberta's model, and Roberta's tokenizer. After that, we will create a model class, where we load the pre-trained model and add new layers:\n",
        "\n",
        "### Please Note:\n",
        "The __init__() method of the class initializes the following attributes:\n",
        "\n",
        "l1: A RoBERTa model that is pre-trained on a large corpus of text.\n",
        "pre_classifier: A linear layer that is used to transform the output of the RoBERTa model.\n",
        "classifier: A linear layer that is used to classify the input text.\n",
        "The forward() method of the class takes three arguments:\n",
        "\n",
        "input_ids: A tensor of token IDs.\n",
        "attention_mask: A tensor that indicates which tokens should be attended to.\n",
        "token_type_ids: A tensor that indicates the type of each token.\n",
        "The forward() method first passes the input text through the RoBERTa model. The output of the RoBERTa model is a sequence of hidden states. The forward() method then takes the first hidden state and passes it through the pre_classifier layer. The output of the pre_classifier layer is then passed through the classifier layer, which outputs the class prediction.\n",
        "\n",
        "The device variable specifies the device that the model will be trained and evaluated on. The torch.cuda.is_available() function checks if a GPU is available. If a GPU is available, the model will be trained and evaluated on the GPU. Otherwise, the model will be trained and evaluated on the CPU.\n",
        "\n",
        "The model.to(device) statement moves the model to the specified device."
      ],
      "id": "VHO3LiQPS3wK"
    },
    {
      "cell_type": "code",
      "execution_count": 2,
      "metadata": {
        "colab": {
          "base_uri": "https://localhost:8080/",
          "height": 917,
          "referenced_widgets": [
            "2c2f0b27612646dbb887013346f4d4b9",
            "3fe35b30855d4956b0b9e4c371d414f2",
            "a36a88400eaf4b719e7165c95f4953b5",
            "1a0fe5637e294fb98fd71740bc116d6c",
            "c59a09121ad84f8490cce9efe2024914",
            "1825a497d1724feeb427e2a22e27a082",
            "b5b2605282b74af0a372eb4357419e2a",
            "be663468195242ffa592c5e485241f99",
            "563035f13b314363aba1a12ca6aa8cbf",
            "979eb411fd8e469f87f8ee73c9081907",
            "44d59cbf00504c529f752d390c86ebc9",
            "5ee7cd8b57034b749295cfce61e09de6",
            "62671ee3dc314cdb8d53642fad9e86d8",
            "2623749d8ec44acbbfeea95396575af6",
            "44283a99e55342e196c74328c6144a9b",
            "d433b3c7c1bd4cf88149e56109f51874",
            "d31049797eba4954919cd74b52c8407d",
            "0e754112c56242248f9e81f65a6ab942",
            "a86bdbb7a62e496785b1ef4e2ff1e2e4",
            "5aa157bdacb64a8cb4cd4b4de441dc77",
            "622b5b2a65e748a9ad2f70e91b0002d1",
            "d32486eb2a1d4dc3afd3ae7ec6ce4e98"
          ]
        },
        "id": "9Wk2lDJISgwp",
        "outputId": "3a292390-edae-48af-959c-1323d2c6d6fd"
      },
      "outputs": [
        {
          "output_type": "display_data",
          "data": {
            "text/plain": [
              "Downloading (…)lve/main/config.json:   0%|          | 0.00/481 [00:00<?, ?B/s]"
            ],
            "application/vnd.jupyter.widget-view+json": {
              "version_major": 2,
              "version_minor": 0,
              "model_id": "2c2f0b27612646dbb887013346f4d4b9"
            }
          },
          "metadata": {}
        },
        {
          "output_type": "display_data",
          "data": {
            "text/plain": [
              "Downloading model.safetensors:   0%|          | 0.00/499M [00:00<?, ?B/s]"
            ],
            "application/vnd.jupyter.widget-view+json": {
              "version_major": 2,
              "version_minor": 0,
              "model_id": "5ee7cd8b57034b749295cfce61e09de6"
            }
          },
          "metadata": {}
        },
        {
          "output_type": "stream",
          "name": "stderr",
          "text": [
            "Some weights of RobertaModel were not initialized from the model checkpoint at roberta-base and are newly initialized: ['roberta.pooler.dense.bias', 'roberta.pooler.dense.weight']\n",
            "You should probably TRAIN this model on a down-stream task to be able to use it for predictions and inference.\n"
          ]
        },
        {
          "output_type": "execute_result",
          "data": {
            "text/plain": [
              "RobertaClass(\n",
              "  (l1): RobertaModel(\n",
              "    (embeddings): RobertaEmbeddings(\n",
              "      (word_embeddings): Embedding(50265, 768, padding_idx=1)\n",
              "      (position_embeddings): Embedding(514, 768, padding_idx=1)\n",
              "      (token_type_embeddings): Embedding(1, 768)\n",
              "      (LayerNorm): LayerNorm((768,), eps=1e-05, elementwise_affine=True)\n",
              "      (dropout): Dropout(p=0.1, inplace=False)\n",
              "    )\n",
              "    (encoder): RobertaEncoder(\n",
              "      (layer): ModuleList(\n",
              "        (0-11): 12 x RobertaLayer(\n",
              "          (attention): RobertaAttention(\n",
              "            (self): RobertaSelfAttention(\n",
              "              (query): Linear(in_features=768, out_features=768, bias=True)\n",
              "              (key): Linear(in_features=768, out_features=768, bias=True)\n",
              "              (value): Linear(in_features=768, out_features=768, bias=True)\n",
              "              (dropout): Dropout(p=0.1, inplace=False)\n",
              "            )\n",
              "            (output): RobertaSelfOutput(\n",
              "              (dense): Linear(in_features=768, out_features=768, bias=True)\n",
              "              (LayerNorm): LayerNorm((768,), eps=1e-05, elementwise_affine=True)\n",
              "              (dropout): Dropout(p=0.1, inplace=False)\n",
              "            )\n",
              "          )\n",
              "          (intermediate): RobertaIntermediate(\n",
              "            (dense): Linear(in_features=768, out_features=3072, bias=True)\n",
              "            (intermediate_act_fn): GELUActivation()\n",
              "          )\n",
              "          (output): RobertaOutput(\n",
              "            (dense): Linear(in_features=3072, out_features=768, bias=True)\n",
              "            (LayerNorm): LayerNorm((768,), eps=1e-05, elementwise_affine=True)\n",
              "            (dropout): Dropout(p=0.1, inplace=False)\n",
              "          )\n",
              "        )\n",
              "      )\n",
              "    )\n",
              "    (pooler): RobertaPooler(\n",
              "      (dense): Linear(in_features=768, out_features=768, bias=True)\n",
              "      (activation): Tanh()\n",
              "    )\n",
              "  )\n",
              "  (pre_classifier): Linear(in_features=768, out_features=768, bias=True)\n",
              "  (classifier): Linear(in_features=768, out_features=2, bias=True)\n",
              ")"
            ]
          },
          "metadata": {},
          "execution_count": 2
        }
      ],
      "source": [
        "import torch\n",
        "from transformers import RobertaModel\n",
        "\n",
        "class RobertaClass(torch.nn.Module):\n",
        "    def __init__(self):\n",
        "        super(RobertaClass, self).__init__()\n",
        "        self.l1 = RobertaModel.from_pretrained(\"roberta-base\")\n",
        "        self.pre_classifier = torch.nn.Linear(768, 768)\n",
        "        self.classifier = torch.nn.Linear(768, 2)\n",
        "\n",
        "    def forward(self, input_ids, attention_mask, token_type_ids):\n",
        "        output_1 = self.l1(input_ids=input_ids,\n",
        "                           attention_mask=attention_mask,\n",
        "                           token_type_ids=token_type_ids)\n",
        "        hidden_state = output_1[0]\n",
        "        pooler = hidden_state[:, 0]\n",
        "        pooler = self.pre_classifier(pooler)\n",
        "        pooler = torch.nn.Tanh()(pooler)\n",
        "        output = self.classifier(pooler)\n",
        "        return output\n",
        "device = torch.device(\"cuda:0\" if torch.cuda.is_available() else \"cpu\")\n",
        "model = RobertaClass()\n",
        "model.to(device)"
      ],
      "id": "9Wk2lDJISgwp"
    },
    {
      "cell_type": "markdown",
      "metadata": {
        "id": "3cc8e0cb"
      },
      "source": [
        "# 2. Data Acquisition"
      ],
      "id": "3cc8e0cb"
    },
    {
      "cell_type": "markdown",
      "metadata": {
        "id": "_aFRZLKmTQzX"
      },
      "source": [
        "### We will use this dataset https://www.kaggle.com/kazanova/sentiment140\n",
        "\n",
        "The dataset consists of a table with 6 columns, we will use only 2 of them: “text” and “label” containing the tweet and the target label respectively. The volume of the dataset is 1.6 million tweets with 800 thousand positive and 800 thousand negative examples, i.e. the data is already perfectly balanced."
      ],
      "id": "_aFRZLKmTQzX"
    },
    {
      "cell_type": "code",
      "execution_count": 3,
      "metadata": {
        "colab": {
          "base_uri": "https://localhost:8080/"
        },
        "id": "4b51d895",
        "outputId": "354cdb7c-fd0c-44a6-efd7-71bb8e5a2945"
      },
      "outputs": [
        {
          "output_type": "stream",
          "name": "stdout",
          "text": [
            "Mounted at /content/drive\n"
          ]
        }
      ],
      "source": [
        "from google.colab import drive\n",
        "drive.mount('/content/drive')\n",
        "\n",
        "import pandas as pd\n",
        "# paste your path to the dataset\n",
        "!cp '/content/drive/MyDrive/Colab Notebooks/archive.zip' dataset.zip"
      ],
      "id": "4b51d895"
    },
    {
      "cell_type": "markdown",
      "metadata": {
        "id": "102e0e36"
      },
      "source": [
        "# 3. Data Preparation\n",
        "\n"
      ],
      "id": "102e0e36"
    },
    {
      "cell_type": "code",
      "execution_count": 4,
      "metadata": {
        "id": "kQ1dmhJYWZJJ"
      },
      "outputs": [],
      "source": [
        "import zipfile\n",
        "with zipfile.ZipFile(\"dataset.zip\", 'r') as zip_ref:\n",
        "    zip_ref.extractall(\"./\")"
      ],
      "id": "kQ1dmhJYWZJJ"
    },
    {
      "cell_type": "code",
      "execution_count": 5,
      "metadata": {
        "id": "PHof0xHpXSrT"
      },
      "outputs": [],
      "source": [
        "full_data = pd.read_csv('/content/training.1600000.processed.noemoticon.csv',\n",
        "                        encoding='latin-1').drop([\"1467810369\",\n",
        "                                                  \"Mon Apr 06 22:19:45 PDT 2009\",\n",
        "                                                  \"NO_QUERY\",\"_TheSpecialOne_\"],\n",
        "                                                 axis=1).dropna()\n",
        "columns_names = list(full_data)\n",
        "full_data.rename(columns={columns_names[0]:\"label\",\n",
        "                        columns_names[1]:\"text\"}, inplace= True)"
      ],
      "id": "PHof0xHpXSrT"
    },
    {
      "cell_type": "markdown",
      "metadata": {
        "id": "vldQbssrYDAw"
      },
      "source": [
        "In the dataset, positive tweets are marked with the number 4, but RoBERTa will perceive the number 4 as if we were predicting 5 classes or more. Since we only have two classes, we will have to replace the labels:"
      ],
      "id": "vldQbssrYDAw"
    },
    {
      "cell_type": "code",
      "execution_count": 6,
      "metadata": {
        "id": "Lj-ZWjrRYBpq"
      },
      "outputs": [],
      "source": [
        "NUM_SAMPLES = 30000\n",
        "negative_samples = full_data[full_data[\"label\"]==0][:NUM_SAMPLES]\n",
        "positiv_samples = full_data[full_data[\"label\"]==4][:NUM_SAMPLES]\n",
        "\n",
        "positiv_samples[\"label\"]=[1]*NUM_SAMPLES\n",
        "\n",
        "full_data = pd.concat([negative_samples,  positiv_samples])"
      ],
      "id": "Lj-ZWjrRYBpq"
    },
    {
      "cell_type": "code",
      "execution_count": 7,
      "metadata": {
        "id": "dd3118eb"
      },
      "outputs": [],
      "source": [
        "from sklearn.model_selection import train_test_split\n",
        "train_data, test_data = train_test_split(full_data, test_size=0.3)\n",
        "train_data = train_data.reset_index(drop=True)\n",
        "test_data = test_data.reset_index(drop=True)\n",
        "positiv_samples[\"label\"]=[1]*NUM_SAMPLES\n",
        "\n",
        "full_data = pd.concat([negative_samples,  positiv_samples])"
      ],
      "id": "dd3118eb"
    },
    {
      "cell_type": "markdown",
      "metadata": {
        "id": "CTAsCh-HYe8R"
      },
      "source": [
        "Tokenization\n",
        "\n",
        "To process the text, we need to convert it into tokens. A special tokenizer is used for Roberta. It returns 3 values: a list of tokenized texts, a list of masks, and a list of token data types. After the tokenization, training and test data are stored in the train_tokenized_data and test_tokenized_data variables, respectively:"
      ],
      "id": "CTAsCh-HYe8R"
    },
    {
      "cell_type": "code",
      "execution_count": 8,
      "metadata": {
        "colab": {
          "base_uri": "https://localhost:8080/",
          "height": 136,
          "referenced_widgets": [
            "0199cf4716924fc7a5637a3f1305070a",
            "f0dce378773d4a969520871f702347e8",
            "9815fbf463e94877b4412ad924231a7c",
            "ac62cbf54e6540a59e17a203a1c446cc",
            "9e5a0d2f9b8c41b6a5c36636f6e952d4",
            "9f396f4cd5e14c168417e1cc42c420cf",
            "99d2db5465b946d2895c4254d799f247",
            "04b4909f831648e68c6fdc70d2d369ef",
            "c417f5e84a564871a035b64eb6cfb08f",
            "1ed25c7dabcd46649eb0f2cd01ecdcb7",
            "3ce93c495a794717845965bac8536110",
            "266993ed26d444de946b07a4ef2e0224",
            "6f44a2c3eabb45139d3d5f2ce74524b9",
            "3966cbe54d56450ab0b77a04e2a91bac",
            "d3f8105ae672416486af376f9e8bd2f9",
            "d03dc62538bf446092e3a6e5a86e0396",
            "ddfe6bfb8e384de488b5c7f5b37314aa",
            "63bcbae91e084385b8f8c4ba1cbefa67",
            "3ade750e69af41b3be7a2643d954518f",
            "eafb99255cdb4995a2fe21c210cfd233",
            "178270a294c947c0ac5e83a28cb3aa1f",
            "edc9c979095f403986c15944fdb033eb"
          ]
        },
        "id": "2_9BaHRfYcIf",
        "outputId": "91f5eb81-a6f0-4a8b-8560-056c887e472a"
      },
      "outputs": [
        {
          "output_type": "display_data",
          "data": {
            "text/plain": [
              "Downloading (…)olve/main/vocab.json:   0%|          | 0.00/899k [00:00<?, ?B/s]"
            ],
            "application/vnd.jupyter.widget-view+json": {
              "version_major": 2,
              "version_minor": 0,
              "model_id": "0199cf4716924fc7a5637a3f1305070a"
            }
          },
          "metadata": {}
        },
        {
          "output_type": "display_data",
          "data": {
            "text/plain": [
              "Downloading (…)olve/main/merges.txt:   0%|          | 0.00/456k [00:00<?, ?B/s]"
            ],
            "application/vnd.jupyter.widget-view+json": {
              "version_major": 2,
              "version_minor": 0,
              "model_id": "266993ed26d444de946b07a4ef2e0224"
            }
          },
          "metadata": {}
        },
        {
          "output_type": "stream",
          "name": "stderr",
          "text": [
            "/usr/local/lib/python3.10/dist-packages/transformers/tokenization_utils_base.py:2418: FutureWarning: The `pad_to_max_length` argument is deprecated and will be removed in a future version, use `padding=True` or `padding='longest'` to pad to the longest sequence in the batch, or use `padding='max_length'` to pad to a max length. In this case, you can give a specific length with `max_length` (e.g. `max_length=45`) or leave max_length to None to pad to the maximal input size of the model (e.g. 512 for Bert).\n",
            "  warnings.warn(\n"
          ]
        }
      ],
      "source": [
        "from transformers import RobertaTokenizer\n",
        "tokenizer = RobertaTokenizer.from_pretrained('roberta-base',\n",
        "                                             truncation=True,\n",
        "                                             do_lower_case=True)\n",
        "MAX_LEN = 130\n",
        "\n",
        "train_tokenized_data = [tokenizer.encode_plus(\n",
        "            text,\n",
        "            None,\n",
        "            add_special_tokens=True,\n",
        "            max_length=MAX_LEN,\n",
        "            pad_to_max_length=True,\n",
        "            return_token_type_ids=True,\n",
        "            truncation=True\n",
        "        )\n",
        "        for text in train_data['text']]\n",
        "\n",
        "test_tokenized_data = [tokenizer.encode_plus(\n",
        "            text,\n",
        "            None,\n",
        "            add_special_tokens=True,\n",
        "            max_length=MAX_LEN,\n",
        "            pad_to_max_length=True,\n",
        "            return_token_type_ids=True,\n",
        "            truncation=True\n",
        "        )\n",
        "        for text in test_data['text']]"
      ],
      "id": "2_9BaHRfYcIf"
    },
    {
      "cell_type": "markdown",
      "metadata": {
        "id": "3ae0b5d2"
      },
      "source": [
        "## 4. Deep Neural Network Architecture\n"
      ],
      "id": "3ae0b5d2"
    },
    {
      "cell_type": "markdown",
      "source": [
        "Class inherits from the torch.utils.data.Dataset class, which is the base class for all PyTorch datasets.\n",
        "\n",
        "The __init__() method of the class initializes the following attributes:\n",
        "\n",
        "inputs: A list of input data.\n",
        "text: A list of text data.\n",
        "targets: A list of target data.\n",
        "The __len__() method of the class returns the length of the dataset.\n",
        "\n",
        "The __getitem__() method of the class takes an index as an argument and returns a dictionary of data for that index. The dictionary contains the following keys:\n",
        "\n",
        "sentence: The text data for the index.\n",
        "ids: The input IDs for the index.\n",
        "mask: The attention mask for the index.\n",
        "token_type_ids: The token type IDs for the index.\n",
        "targets: The target data for the index."
      ],
      "metadata": {
        "id": "NP4omUp0jwvm"
      },
      "id": "NP4omUp0jwvm"
    },
    {
      "cell_type": "code",
      "execution_count": 9,
      "metadata": {
        "id": "AJCAIbgYYznC"
      },
      "outputs": [],
      "source": [
        "from torch.utils.data import Dataset, DataLoader\n",
        "TRAIN_BATCH_SIZE = 32\n",
        "TEST_BATCH_SIZE = 32\n",
        "LEARNING_RATE = 1e-05\n",
        "\n",
        "class SentimentData(Dataset):\n",
        "    def __init__(self, data, inputs_tokenized):\n",
        "        self.inputs = inputs_tokenized\n",
        "        self.text = data['text']\n",
        "        self.targets = data['label']\n",
        "\n",
        "    def __len__(self):\n",
        "        return len(self.text)\n",
        "\n",
        "    def __getitem__(self, index):\n",
        "        text = str(self.text[index])\n",
        "        text = \" \".join(text.split())\n",
        "\n",
        "        input = self.inputs[index]\n",
        "        ids = input['input_ids']\n",
        "        mask = input['attention_mask']\n",
        "        token_type_ids = input['token_type_ids']\n",
        "\n",
        "        return {\n",
        "            'sentence': text,\n",
        "            'ids': torch.tensor(ids, dtype=torch.long),\n",
        "            'mask': torch.tensor(mask, dtype=torch.long),\n",
        "            'token_type_ids': torch.tensor(token_type_ids, dtype=torch.long),\n",
        "            'targets': torch.tensor(self.targets[index], dtype=torch.float)\n",
        "        }\n",
        "\n",
        "train_dataset = SentimentData(train_data, train_tokenized_data)\n",
        "test_dataset = SentimentData(test_data, test_tokenized_data)"
      ],
      "id": "AJCAIbgYYznC"
    },
    {
      "cell_type": "markdown",
      "metadata": {
        "id": "EHMFDtgLZA17"
      },
      "source": [
        "Dataloader\n",
        "\n",
        "Let’s put datasets in dataloader classes for taking the batches, and then shuffle them:"
      ],
      "id": "EHMFDtgLZA17"
    },
    {
      "cell_type": "code",
      "execution_count": 10,
      "metadata": {
        "id": "k3_iAKKCY_EK"
      },
      "outputs": [],
      "source": [
        "train_params = {'batch_size': TRAIN_BATCH_SIZE,\n",
        "                'shuffle': True\n",
        "                }\n",
        "\n",
        "test_params = {'batch_size': TEST_BATCH_SIZE,\n",
        "                'shuffle': True\n",
        "                }\n",
        "\n",
        "train_loader = DataLoader(train_dataset, **train_params)\n",
        "test_loader = DataLoader(test_dataset, **test_params)\n",
        "\n"
      ],
      "id": "k3_iAKKCY_EK"
    },
    {
      "cell_type": "markdown",
      "metadata": {
        "id": "186bf4d7"
      },
      "source": [
        "## 4.1 Design the architecture for Transformer as per the journal referenced\n",
        "\n"
      ],
      "id": "186bf4d7"
    },
    {
      "cell_type": "markdown",
      "source": [
        "The train_loss and train_accuracy lists are used to track the loss and accuracy of the model during training. The test_loss and test_accuracy lists are used to track the loss and accuracy of the model during testing.\n",
        "\n",
        "The test_answers list is used to store the correct and predicted labels for the test data. This list can be used to analyze the model's predictions.\n",
        "\n",
        "The clear_output() function is used to clear the output of the notebook after each epoch. This is done to make the output easier to read."
      ],
      "metadata": {
        "id": "ggFAybWNkNKs"
      },
      "id": "ggFAybWNkNKs"
    },
    {
      "cell_type": "code",
      "execution_count": 11,
      "metadata": {
        "id": "868d7b27"
      },
      "outputs": [],
      "source": [
        "from tqdm import tqdm\n",
        "import matplotlib.pyplot as plt\n",
        "from IPython.display import clear_output\n",
        "\n",
        "train_loss = []\n",
        "test_loss = []\n",
        "\n",
        "train_accuracy = []\n",
        "test_accuracy = []\n",
        "\n",
        "test_answers = [[[],[]], [[],[]]]\n",
        "\n",
        "def train_loop(epochs):\n",
        "  for epoch in range(epochs):\n",
        "    for phase in ['Train', 'Test']:\n",
        "      if(phase == 'Train'):\n",
        "        model.train()\n",
        "        loader = train_loader\n",
        "      else:\n",
        "        model.eval()\n",
        "        loader = test_loader\n",
        "      epoch_loss = 0\n",
        "      epoch_acc = 0\n",
        "      for steps, data in tqdm(enumerate(loader, 0)):\n",
        "        sentence = data['sentence']\n",
        "        ids = data['ids'].to(device, dtype = torch.long)\n",
        "        mask = data['mask'].to(device, dtype = torch.long)\n",
        "        token_type_ids = data['token_type_ids'].to(device, dtype = torch.long)\n",
        "        targets = data['targets'].to(device, dtype = torch.long)\n",
        "\n",
        "        outputs = model.forward(ids, mask, token_type_ids)\n",
        "\n",
        "        loss = loss_function(outputs, targets)\n",
        "\n",
        "        epoch_loss += loss.detach()\n",
        "        _, max_indices = torch.max(outputs.data, dim=1)\n",
        "        bath_acc = (max_indices==targets).sum().item()/targets.size(0)\n",
        "        epoch_acc += bath_acc\n",
        "\n",
        "        if (phase == 'Train'):\n",
        "          train_loss.append(loss.detach())\n",
        "          train_accuracy.append(bath_acc)\n",
        "          optimizer.zero_grad()\n",
        "          loss.backward()\n",
        "          optimizer.step()\n",
        "        else:\n",
        "          test_loss.append(loss.detach())\n",
        "          test_accuracy.append(bath_acc)\n",
        "          if epoch == epochs-1:\n",
        "            for i in range(len(targets)):\n",
        "              test_answers[targets[i].item()][max_indices[i].item()].append([sentence[i],\n",
        "                                                                 targets[i].item(),\n",
        "                                                                 max_indices[i].item()])\n",
        "\n",
        "      print(f\"{phase} Loss: {epoch_loss/steps}\")\n",
        "      print(f\"{phase} Accuracy: {epoch_acc/steps}\")"
      ],
      "id": "868d7b27"
    },
    {
      "cell_type": "markdown",
      "source": [
        "The cross-entropy loss function is a loss function that is often used for classification tasks. It measures the distance between the predicted distribution and the ground truth distribution.\n",
        "The Adam optimizer is an adaptive learning rate optimizer that is often used for training deep learning models. It automatically adjusts the learning rate based on the progress of the training.The EPOCHS variable specifies the number of epochs to train the model for."
      ],
      "metadata": {
        "id": "jEMWnpv4ktGD"
      },
      "id": "jEMWnpv4ktGD"
    },
    {
      "cell_type": "markdown",
      "metadata": {
        "id": "bdbc82a1"
      },
      "source": [
        "# 5. Training the model\n"
      ],
      "id": "bdbc82a1"
    },
    {
      "cell_type": "code",
      "execution_count": 12,
      "metadata": {
        "colab": {
          "base_uri": "https://localhost:8080/"
        },
        "id": "8BbCyAQmbEIl",
        "outputId": "49c399da-fb5d-489a-e7a9-dd43839ca068"
      },
      "outputs": [
        {
          "output_type": "stream",
          "name": "stderr",
          "text": [
            "1313it [14:15,  1.54it/s]\n"
          ]
        },
        {
          "output_type": "stream",
          "name": "stdout",
          "text": [
            "Train Loss: 0.37297552824020386\n",
            "Train Accuracy: 0.8361995045731707\n"
          ]
        },
        {
          "output_type": "stream",
          "name": "stderr",
          "text": [
            "563it [01:58,  4.75it/s]\n"
          ]
        },
        {
          "output_type": "stream",
          "name": "stdout",
          "text": [
            "Test Loss: 0.3064723014831543\n",
            "Test Accuracy: 0.8722753558718861\n"
          ]
        },
        {
          "output_type": "stream",
          "name": "stderr",
          "text": [
            "1313it [14:21,  1.52it/s]\n"
          ]
        },
        {
          "output_type": "stream",
          "name": "stdout",
          "text": [
            "Train Loss: 0.282917857170105\n",
            "Train Accuracy: 0.8840987042682927\n"
          ]
        },
        {
          "output_type": "stream",
          "name": "stderr",
          "text": [
            "563it [01:58,  4.75it/s]\n"
          ]
        },
        {
          "output_type": "stream",
          "name": "stdout",
          "text": [
            "Test Loss: 0.31474101543426514\n",
            "Test Accuracy: 0.8688834519572953\n"
          ]
        },
        {
          "output_type": "stream",
          "name": "stderr",
          "text": [
            "1313it [14:21,  1.52it/s]\n"
          ]
        },
        {
          "output_type": "stream",
          "name": "stdout",
          "text": [
            "Train Loss: 0.23251737654209137\n",
            "Train Accuracy: 0.9085604039634146\n"
          ]
        },
        {
          "output_type": "stream",
          "name": "stderr",
          "text": [
            "563it [01:58,  4.75it/s]\n"
          ]
        },
        {
          "output_type": "stream",
          "name": "stdout",
          "text": [
            "Test Loss: 0.31340155005455017\n",
            "Test Accuracy: 0.8761120996441281\n"
          ]
        },
        {
          "output_type": "stream",
          "name": "stderr",
          "text": [
            "1313it [14:21,  1.52it/s]\n"
          ]
        },
        {
          "output_type": "stream",
          "name": "stdout",
          "text": [
            "Train Loss: 0.1855502873659134\n",
            "Train Accuracy: 0.926781631097561\n"
          ]
        },
        {
          "output_type": "stream",
          "name": "stderr",
          "text": [
            "563it [01:59,  4.72it/s]"
          ]
        },
        {
          "output_type": "stream",
          "name": "stdout",
          "text": [
            "Test Loss: 0.3912634253501892\n",
            "Test Accuracy: 0.8639902135231317\n"
          ]
        },
        {
          "output_type": "stream",
          "name": "stderr",
          "text": [
            "\n"
          ]
        }
      ],
      "source": [
        "loss_function = torch.nn.CrossEntropyLoss()\n",
        "optimizer = torch.optim.Adam(params =  model.parameters(), lr=LEARNING_RATE)\n",
        "\n",
        "EPOCHS = 4\n",
        "train_loop(EPOCHS)"
      ],
      "id": "8BbCyAQmbEIl"
    },
    {
      "cell_type": "markdown",
      "source": [
        "# 6. Result for the model\n"
      ],
      "metadata": {
        "id": "W0Ueq9tDlGke"
      },
      "id": "W0Ueq9tDlGke"
    },
    {
      "cell_type": "code",
      "source": [
        "import matplotlib.pyplot as plt\n",
        "import torch\n",
        "\n",
        "# Convert the lists to tensors\n",
        "train_loss = torch.tensor(train_loss)\n",
        "test_loss = torch.tensor(test_loss)\n",
        "train_accuracy = torch.tensor(train_accuracy)\n",
        "test_accuracy = torch.tensor(test_accuracy)\n",
        "\n",
        "# Move the tensors to the CPU memory\n",
        "train_loss = train_loss.cpu()\n",
        "test_loss = test_loss.cpu()\n",
        "train_accuracy = train_accuracy.cpu()\n",
        "test_accuracy = test_accuracy.cpu()\n",
        "\n",
        "# Now you can convert the tensors to NumPy arrays\n",
        "numpy_train_loss = train_loss.numpy()\n",
        "numpy_test_loss = test_loss.numpy()\n",
        "numpy_train_accuracy = train_accuracy.numpy()\n",
        "numpy_test_accuracy = test_accuracy.numpy()\n",
        "\n",
        "# Plot the loss\n",
        "plt.plot(numpy_train_loss, color='blue')\n",
        "plt.title(\"Train Loss\")\n",
        "plt.xlabel(\"Batch\")\n",
        "plt.ylabel(\"Loss\")\n",
        "plt.show()\n",
        "\n",
        "plt.plot(numpy_test_loss, color='orange')\n",
        "plt.title(\"Test Loss\")\n",
        "plt.xlabel(\"Batch\")\n",
        "plt.ylabel(\"Loss\")\n",
        "plt.show()\n",
        "\n",
        "# Plot the accuracy\n",
        "plt.plot(numpy_train_accuracy, color='blue')\n",
        "plt.title(\"Train Accuracy\")\n",
        "plt.xlabel(\"Batch\")\n",
        "plt.ylabel(\"Accuracy\")\n",
        "plt.show()\n",
        "\n",
        "plt.plot(numpy_test_accuracy, color='orange')\n",
        "plt.title(\"Test Accuracy\")\n",
        "plt.xlabel(\"Batch\")\n",
        "plt.ylabel(\"Accuracy\")\n",
        "\n",
        "plt.show()"
      ],
      "metadata": {
        "colab": {
          "base_uri": "https://localhost:8080/",
          "height": 1000
        },
        "id": "yj-h56EVgUPm",
        "outputId": "918758d0-4c77-4465-a5ee-e7ec94881d06"
      },
      "id": "yj-h56EVgUPm",
      "execution_count": 18,
      "outputs": [
        {
          "output_type": "stream",
          "name": "stderr",
          "text": [
            "<ipython-input-18-4b1a9e52b800>:5: UserWarning: To copy construct from a tensor, it is recommended to use sourceTensor.clone().detach() or sourceTensor.clone().detach().requires_grad_(True), rather than torch.tensor(sourceTensor).\n",
            "  train_loss = torch.tensor(train_loss)\n",
            "<ipython-input-18-4b1a9e52b800>:6: UserWarning: To copy construct from a tensor, it is recommended to use sourceTensor.clone().detach() or sourceTensor.clone().detach().requires_grad_(True), rather than torch.tensor(sourceTensor).\n",
            "  test_loss = torch.tensor(test_loss)\n",
            "<ipython-input-18-4b1a9e52b800>:7: UserWarning: To copy construct from a tensor, it is recommended to use sourceTensor.clone().detach() or sourceTensor.clone().detach().requires_grad_(True), rather than torch.tensor(sourceTensor).\n",
            "  train_accuracy = torch.tensor(train_accuracy)\n",
            "<ipython-input-18-4b1a9e52b800>:8: UserWarning: To copy construct from a tensor, it is recommended to use sourceTensor.clone().detach() or sourceTensor.clone().detach().requires_grad_(True), rather than torch.tensor(sourceTensor).\n",
            "  test_accuracy = torch.tensor(test_accuracy)\n"
          ]
        },
        {
          "output_type": "display_data",
          "data": {
            "text/plain": [
              "<Figure size 640x480 with 1 Axes>"
            ],
            "image/png": "[encoded data removed]"
          },
          "metadata": {}
        },
        {
          "output_type": "display_data",
          "data": {
            "text/plain": [
              "<Figure size 640x480 with 1 Axes>"
            ],
            "image/png": "[encoded data removed]"
          },
          "metadata": {}
        },
        {
          "output_type": "display_data",
          "data": {
            "text/plain": [
              "<Figure size 640x480 with 1 Axes>"
            ],
            "image/png": "[encoded data removed]"
          },
          "metadata": {}
        },
        {
          "output_type": "display_data",
          "data": {
            "text/plain": [
              "<Figure size 640x480 with 1 Axes>"
            ],
            "image/png": "[encoded data removed]"
          },
          "metadata": {}
        }
      ]
    },
    {
      "cell_type": "markdown",
      "metadata": {
        "id": "eb57940c"
      },
      "source": [
        "# 6. Report for the result"
      ],
      "id": "eb57940c"
    },
    {
      "cell_type": "code",
      "execution_count": 19,
      "metadata": {
        "id": "cf409d22",
        "colab": {
          "base_uri": "https://localhost:8080/",
          "height": 1000
        },
        "outputId": "26dcd8ff-062f-40ed-932b-4b8773230ed9"
      },
      "outputs": [
        {
          "output_type": "display_data",
          "data": {
            "text/plain": [
              "<Figure size 640x480 with 1 Axes>"
            ],
            "image/png": "[encoded data removed]"
          },
          "metadata": {}
        },
        {
          "output_type": "display_data",
          "data": {
            "text/plain": [
              "<Figure size 640x480 with 1 Axes>"
            ],
            "image/png": "[encoded data removed]"
          },
          "metadata": {}
        },
        {
          "output_type": "display_data",
          "data": {
            "text/plain": [
              "<Figure size 640x480 with 1 Axes>"
            ],
            "image/png": "[encoded data removed]"
          },
          "metadata": {}
        },
        {
          "output_type": "display_data",
          "data": {
            "text/plain": [
              "<Figure size 640x480 with 1 Axes>"
            ],
            "image/png": "[encoded data removed]"
          },
          "metadata": {}
        }
      ],
      "source": [
        "plt.plot(train_loss,  color='blue')\n",
        "plt.title(\"Train Loss\")\n",
        "plt.xlabel(\"Batch\")\n",
        "plt.ylabel(\"Loss\")\n",
        "plt.show()\n",
        "\n",
        "plt.plot(test_loss,  color='orange')\n",
        "plt.title(\"Test Loss\")\n",
        "plt.xlabel(\"Batch\")\n",
        "plt.ylabel(\"Loss\")\n",
        "plt.show()\n",
        "\n",
        "plt.plot(train_accuracy,  color='blue')\n",
        "plt.title(\"Train Accuracy\")\n",
        "plt.xlabel(\"Batch\")\n",
        "plt.ylabel(\"Accuracy\")\n",
        "plt.show()\n",
        "\n",
        "plt.plot(test_accuracy,  color='orange')\n",
        "plt.title(\"Test Accuracy\")\n",
        "plt.xlabel(\"Batch\")\n",
        "plt.ylabel(\"Accuracy\")\n",
        "\n",
        "plt.show()"
      ],
      "id": "cf409d22"
    },
    {
      "cell_type": "code",
      "execution_count": 20,
      "metadata": {
        "id": "ILl7kUJOm_9a",
        "colab": {
          "base_uri": "https://localhost:8080/",
          "height": 462
        },
        "outputId": "573ad91d-07f8-408a-8f6b-c9781e6642ab"
      },
      "outputs": [
        {
          "output_type": "execute_result",
          "data": {
            "text/plain": [
              "<Axes: >"
            ]
          },
          "metadata": {},
          "execution_count": 20
        },
        {
          "output_type": "display_data",
          "data": {
            "text/plain": [
              "<Figure size 500x500 with 2 Axes>"
            ],
            "image/png": "[encoded data removed]"
          },
          "metadata": {}
        }
      ],
      "source": [
        "import seaborn as sn\n",
        "import pandas as pd\n",
        "import matplotlib.pyplot as plt\n",
        "\n",
        "len_num = len(test_dataset)\n",
        "\n",
        "tp=len(test_answers[1][1])/len_num\n",
        "fn=len(test_answers[1][0])/len_num\n",
        "fp=len(test_answers[0][1])/len_num\n",
        "tn=len(test_answers[0][0])/len_num\n",
        "\n",
        "array_matrix = [[tp,tn],\n",
        "                [fp,fn]]\n",
        "df_cm = pd.DataFrame(array_matrix, index = ['T', 'F'],\n",
        "                  columns = ['P', 'N'])\n",
        "plt.figure(figsize = (5,5))\n",
        "sn.heatmap(df_cm, annot=True)"
      ],
      "id": "ILl7kUJOm_9a"
    },
    {
      "cell_type": "markdown",
      "metadata": {
        "id": "06f1173c"
      },
      "source": [
        "# 7. Test the model\n"
      ],
      "id": "06f1173c"
    },
    {
      "cell_type": "code",
      "execution_count": 21,
      "metadata": {
        "id": "3QpaMvvAnCzy",
        "colab": {
          "base_uri": "https://localhost:8080/"
        },
        "outputId": "f0ae2b67-d582-4916-d2c5-30fef0240664"
      },
      "outputs": [
        {
          "output_type": "stream",
          "name": "stdout",
          "text": [
            "False Negative:\n",
            " [['@miasummers i hate when that happens', 0, 0], ['@Latina91 ugh.. math -.- same here =/ not gonna pass math either', 0, 0], ['is aching all over...', 0, 0]] False Positive:\n",
            " [['@TommyLind &quot;Coffee machine broken?!!&quot; Worst three words in the English language--OK, in ANY language!!!', 0, 1], ['-8 outside right now -- going back to bed till it warms up', 0, 1], [\"@joebobhawkins we've decided that home improvements are best left to the professionals\", 0, 1]]\n"
          ]
        }
      ],
      "source": [
        "print('False Negative:\\n', test_answers[0][0][:3],\n",
        "      'False Positive:\\n', test_answers[0][1][:3])"
      ],
      "id": "3QpaMvvAnCzy"
    }
  ],
  "metadata": {
    "colab": {
      "provenance": [],
      "gpuType": "T4",
      "include_colab_link": true
    },
    "kernelspec": {
      "display_name": "Python 3",
      "name": "python3"
    },
    "language_info": {
      "codemirror_mode": {
        "name": "ipython",
        "version": 3
      },
      "file_extension": ".py",
      "mimetype": "text/x-python",
      "name": "python",
      "nbconvert_exporter": "python",
      "pygments_lexer": "ipython3",
      "version": "3.8.10"
    },
    "widgets": {
      "application/vnd.jupyter.widget-state+json": {
        "2c2f0b27612646dbb887013346f4d4b9": {
          "model_module": "@jupyter-widgets/controls",
          "model_name": "HBoxModel",
          "model_module_version": "1.5.0",
          "state": {
            "_dom_classes": [],
            "_model_module": "@jupyter-widgets/controls",
            "_model_module_version": "1.5.0",
            "_model_name": "HBoxModel",
            "_view_count": null,
            "_view_module": "@jupyter-widgets/controls",
            "_view_module_version": "1.5.0",
            "_view_name": "HBoxView",
            "box_style": "",
            "children": [
              "IPY_MODEL_3fe35b30855d4956b0b9e4c371d414f2",
              "IPY_MODEL_a36a88400eaf4b719e7165c95f4953b5",
              "IPY_MODEL_1a0fe5637e294fb98fd71740bc116d6c"
            ],
            "layout": "IPY_MODEL_c59a09121ad84f8490cce9efe2024914"
          }
        },
        "3fe35b30855d4956b0b9e4c371d414f2": {
          "model_module": "@jupyter-widgets/controls",
          "model_name": "HTMLModel",
          "model_module_version": "1.5.0",
          "state": {
            "_dom_classes": [],
            "_model_module": "@jupyter-widgets/controls",
            "_model_module_version": "1.5.0",
            "_model_name": "HTMLModel",
            "_view_count": null,
            "_view_module": "@jupyter-widgets/controls",
            "_view_module_version": "1.5.0",
            "_view_name": "HTMLView",
            "description": "",
            "description_tooltip": null,
            "layout": "IPY_MODEL_1825a497d1724feeb427e2a22e27a082",
            "placeholder": "​",
            "style": "IPY_MODEL_b5b2605282b74af0a372eb4357419e2a",
            "value": "Downloading (…)lve/main/config.json: 100%"
          }
        },
        "a36a88400eaf4b719e7165c95f4953b5": {
          "model_module": "@jupyter-widgets/controls",
          "model_name": "FloatProgressModel",
          "model_module_version": "1.5.0",
          "state": {
            "_dom_classes": [],
            "_model_module": "@jupyter-widgets/controls",
            "_model_module_version": "1.5.0",
            "_model_name": "FloatProgressModel",
            "_view_count": null,
            "_view_module": "@jupyter-widgets/controls",
            "_view_module_version": "1.5.0",
            "_view_name": "ProgressView",
            "bar_style": "success",
            "description": "",
            "description_tooltip": null,
            "layout": "IPY_MODEL_be663468195242ffa592c5e485241f99",
            "max": 481,
            "min": 0,
            "orientation": "horizontal",
            "style": "IPY_MODEL_563035f13b314363aba1a12ca6aa8cbf",
            "value": 481
          }
        },
        "1a0fe5637e294fb98fd71740bc116d6c": {
          "model_module": "@jupyter-widgets/controls",
          "model_name": "HTMLModel",
          "model_module_version": "1.5.0",
          "state": {
            "_dom_classes": [],
            "_model_module": "@jupyter-widgets/controls",
            "_model_module_version": "1.5.0",
            "_model_name": "HTMLModel",
            "_view_count": null,
            "_view_module": "@jupyter-widgets/controls",
            "_view_module_version": "1.5.0",
            "_view_name": "HTMLView",
            "description": "",
            "description_tooltip": null,
            "layout": "IPY_MODEL_979eb411fd8e469f87f8ee73c9081907",
            "placeholder": "​",
            "style": "IPY_MODEL_44d59cbf00504c529f752d390c86ebc9",
            "value": " 481/481 [00:00&lt;00:00, 35.4kB/s]"
          }
        },
        "c59a09121ad84f8490cce9efe2024914": {
          "model_module": "@jupyter-widgets/base",
          "model_name": "LayoutModel",
          "model_module_version": "1.2.0",
          "state": {
            "_model_module": "@jupyter-widgets/base",
            "_model_module_version": "1.2.0",
            "_model_name": "LayoutModel",
            "_view_count": null,
            "_view_module": "@jupyter-widgets/base",
            "_view_module_version": "1.2.0",
            "_view_name": "LayoutView",
            "align_content": null,
            "align_items": null,
            "align_self": null,
            "border": null,
            "bottom": null,
            "display": null,
            "flex": null,
            "flex_flow": null,
            "grid_area": null,
            "grid_auto_columns": null,
            "grid_auto_flow": null,
            "grid_auto_rows": null,
            "grid_column": null,
            "grid_gap": null,
            "grid_row": null,
            "grid_template_areas": null,
            "grid_template_columns": null,
            "grid_template_rows": null,
            "height": null,
            "justify_content": null,
            "justify_items": null,
            "left": null,
            "margin": null,
            "max_height": null,
            "max_width": null,
            "min_height": null,
            "min_width": null,
            "object_fit": null,
            "object_position": null,
            "order": null,
            "overflow": null,
            "overflow_x": null,
            "overflow_y": null,
            "padding": null,
            "right": null,
            "top": null,
            "visibility": null,
            "width": null
          }
        },
        "1825a497d1724feeb427e2a22e27a082": {
          "model_module": "@jupyter-widgets/base",
          "model_name": "LayoutModel",
          "model_module_version": "1.2.0",
          "state": {
            "_model_module": "@jupyter-widgets/base",
            "_model_module_version": "1.2.0",
            "_model_name": "LayoutModel",
            "_view_count": null,
            "_view_module": "@jupyter-widgets/base",
            "_view_module_version": "1.2.0",
            "_view_name": "LayoutView",
            "align_content": null,
            "align_items": null,
            "align_self": null,
            "border": null,
            "bottom": null,
            "display": null,
            "flex": null,
            "flex_flow": null,
            "grid_area": null,
            "grid_auto_columns": null,
            "grid_auto_flow": null,
            "grid_auto_rows": null,
            "grid_column": null,
            "grid_gap": null,
            "grid_row": null,
            "grid_template_areas": null,
            "grid_template_columns": null,
            "grid_template_rows": null,
            "height": null,
            "justify_content": null,
            "justify_items": null,
            "left": null,
            "margin": null,
            "max_height": null,
            "max_width": null,
            "min_height": null,
            "min_width": null,
            "object_fit": null,
            "object_position": null,
            "order": null,
            "overflow": null,
            "overflow_x": null,
            "overflow_y": null,
            "padding": null,
            "right": null,
            "top": null,
            "visibility": null,
            "width": null
          }
        },
        "b5b2605282b74af0a372eb4357419e2a": {
          "model_module": "@jupyter-widgets/controls",
          "model_name": "DescriptionStyleModel",
          "model_module_version": "1.5.0",
          "state": {
            "_model_module": "@jupyter-widgets/controls",
            "_model_module_version": "1.5.0",
            "_model_name": "DescriptionStyleModel",
            "_view_count": null,
            "_view_module": "@jupyter-widgets/base",
            "_view_module_version": "1.2.0",
            "_view_name": "StyleView",
            "description_width": ""
          }
        },
        "be663468195242ffa592c5e485241f99": {
          "model_module": "@jupyter-widgets/base",
          "model_name": "LayoutModel",
          "model_module_version": "1.2.0",
          "state": {
            "_model_module": "@jupyter-widgets/base",
            "_model_module_version": "1.2.0",
            "_model_name": "LayoutModel",
            "_view_count": null,
            "_view_module": "@jupyter-widgets/base",
            "_view_module_version": "1.2.0",
            "_view_name": "LayoutView",
            "align_content": null,
            "align_items": null,
            "align_self": null,
            "border": null,
            "bottom": null,
            "display": null,
            "flex": null,
            "flex_flow": null,
            "grid_area": null,
            "grid_auto_columns": null,
            "grid_auto_flow": null,
            "grid_auto_rows": null,
            "grid_column": null,
            "grid_gap": null,
            "grid_row": null,
            "grid_template_areas": null,
            "grid_template_columns": null,
            "grid_template_rows": null,
            "height": null,
            "justify_content": null,
            "justify_items": null,
            "left": null,
            "margin": null,
            "max_height": null,
            "max_width": null,
            "min_height": null,
            "min_width": null,
            "object_fit": null,
            "object_position": null,
            "order": null,
            "overflow": null,
            "overflow_x": null,
            "overflow_y": null,
            "padding": null,
            "right": null,
            "top": null,
            "visibility": null,
            "width": null
          }
        },
        "563035f13b314363aba1a12ca6aa8cbf": {
          "model_module": "@jupyter-widgets/controls",
          "model_name": "ProgressStyleModel",
          "model_module_version": "1.5.0",
          "state": {
            "_model_module": "@jupyter-widgets/controls",
            "_model_module_version": "1.5.0",
            "_model_name": "ProgressStyleModel",
            "_view_count": null,
            "_view_module": "@jupyter-widgets/base",
            "_view_module_version": "1.2.0",
            "_view_name": "StyleView",
            "bar_color": null,
            "description_width": ""
          }
        },
        "979eb411fd8e469f87f8ee73c9081907": {
          "model_module": "@jupyter-widgets/base",
          "model_name": "LayoutModel",
          "model_module_version": "1.2.0",
          "state": {
            "_model_module": "@jupyter-widgets/base",
            "_model_module_version": "1.2.0",
            "_model_name": "LayoutModel",
            "_view_count": null,
            "_view_module": "@jupyter-widgets/base",
            "_view_module_version": "1.2.0",
            "_view_name": "LayoutView",
            "align_content": null,
            "align_items": null,
            "align_self": null,
            "border": null,
            "bottom": null,
            "display": null,
            "flex": null,
            "flex_flow": null,
            "grid_area": null,
            "grid_auto_columns": null,
            "grid_auto_flow": null,
            "grid_auto_rows": null,
            "grid_column": null,
            "grid_gap": null,
            "grid_row": null,
            "grid_template_areas": null,
            "grid_template_columns": null,
            "grid_template_rows": null,
            "height": null,
            "justify_content": null,
            "justify_items": null,
            "left": null,
            "margin": null,
            "max_height": null,
            "max_width": null,
            "min_height": null,
            "min_width": null,
            "object_fit": null,
            "object_position": null,
            "order": null,
            "overflow": null,
            "overflow_x": null,
            "overflow_y": null,
            "padding": null,
            "right": null,
            "top": null,
            "visibility": null,
            "width": null
          }
        },
        "44d59cbf00504c529f752d390c86ebc9": {
          "model_module": "@jupyter-widgets/controls",
          "model_name": "DescriptionStyleModel",
          "model_module_version": "1.5.0",
          "state": {
            "_model_module": "@jupyter-widgets/controls",
            "_model_module_version": "1.5.0",
            "_model_name": "DescriptionStyleModel",
            "_view_count": null,
            "_view_module": "@jupyter-widgets/base",
            "_view_module_version": "1.2.0",
            "_view_name": "StyleView",
            "description_width": ""
          }
        },
        "5ee7cd8b57034b749295cfce61e09de6": {
          "model_module": "@jupyter-widgets/controls",
          "model_name": "HBoxModel",
          "model_module_version": "1.5.0",
          "state": {
            "_dom_classes": [],
            "_model_module": "@jupyter-widgets/controls",
            "_model_module_version": "1.5.0",
            "_model_name": "HBoxModel",
            "_view_count": null,
            "_view_module": "@jupyter-widgets/controls",
            "_view_module_version": "1.5.0",
            "_view_name": "HBoxView",
            "box_style": "",
            "children": [
              "IPY_MODEL_62671ee3dc314cdb8d53642fad9e86d8",
              "IPY_MODEL_2623749d8ec44acbbfeea95396575af6",
              "IPY_MODEL_44283a99e55342e196c74328c6144a9b"
            ],
            "layout": "IPY_MODEL_d433b3c7c1bd4cf88149e56109f51874"
          }
        },
        "62671ee3dc314cdb8d53642fad9e86d8": {
          "model_module": "@jupyter-widgets/controls",
          "model_name": "HTMLModel",
          "model_module_version": "1.5.0",
          "state": {
            "_dom_classes": [],
            "_model_module": "@jupyter-widgets/controls",
            "_model_module_version": "1.5.0",
            "_model_name": "HTMLModel",
            "_view_count": null,
            "_view_module": "@jupyter-widgets/controls",
            "_view_module_version": "1.5.0",
            "_view_name": "HTMLView",
            "description": "",
            "description_tooltip": null,
            "layout": "IPY_MODEL_d31049797eba4954919cd74b52c8407d",
            "placeholder": "​",
            "style": "IPY_MODEL_0e754112c56242248f9e81f65a6ab942",
            "value": "Downloading model.safetensors: 100%"
          }
        },
        "2623749d8ec44acbbfeea95396575af6": {
          "model_module": "@jupyter-widgets/controls",
          "model_name": "FloatProgressModel",
          "model_module_version": "1.5.0",
          "state": {
            "_dom_classes": [],
            "_model_module": "@jupyter-widgets/controls",
            "_model_module_version": "1.5.0",
            "_model_name": "FloatProgressModel",
            "_view_count": null,
            "_view_module": "@jupyter-widgets/controls",
            "_view_module_version": "1.5.0",
            "_view_name": "ProgressView",
            "bar_style": "success",
            "description": "",
            "description_tooltip": null,
            "layout": "IPY_MODEL_a86bdbb7a62e496785b1ef4e2ff1e2e4",
            "max": 498818054,
            "min": 0,
            "orientation": "horizontal",
            "style": "IPY_MODEL_5aa157bdacb64a8cb4cd4b4de441dc77",
            "value": 498818054
          }
        },
        "44283a99e55342e196c74328c6144a9b": {
          "model_module": "@jupyter-widgets/controls",
          "model_name": "HTMLModel",
          "model_module_version": "1.5.0",
          "state": {
            "_dom_classes": [],
            "_model_module": "@jupyter-widgets/controls",
            "_model_module_version": "1.5.0",
            "_model_name": "HTMLModel",
            "_view_count": null,
            "_view_module": "@jupyter-widgets/controls",
            "_view_module_version": "1.5.0",
            "_view_name": "HTMLView",
            "description": "",
            "description_tooltip": null,
            "layout": "IPY_MODEL_622b5b2a65e748a9ad2f70e91b0002d1",
            "placeholder": "​",
            "style": "IPY_MODEL_d32486eb2a1d4dc3afd3ae7ec6ce4e98",
            "value": " 499M/499M [00:01&lt;00:00, 262MB/s]"
          }
        },
        "d433b3c7c1bd4cf88149e56109f51874": {
          "model_module": "@jupyter-widgets/base",
          "model_name": "LayoutModel",
          "model_module_version": "1.2.0",
          "state": {
            "_model_module": "@jupyter-widgets/base",
            "_model_module_version": "1.2.0",
            "_model_name": "LayoutModel",
            "_view_count": null,
            "_view_module": "@jupyter-widgets/base",
            "_view_module_version": "1.2.0",
            "_view_name": "LayoutView",
            "align_content": null,
            "align_items": null,
            "align_self": null,
            "border": null,
            "bottom": null,
            "display": null,
            "flex": null,
            "flex_flow": null,
            "grid_area": null,
            "grid_auto_columns": null,
            "grid_auto_flow": null,
            "grid_auto_rows": null,
            "grid_column": null,
            "grid_gap": null,
            "grid_row": null,
            "grid_template_areas": null,
            "grid_template_columns": null,
            "grid_template_rows": null,
            "height": null,
            "justify_content": null,
            "justify_items": null,
            "left": null,
            "margin": null,
            "max_height": null,
            "max_width": null,
            "min_height": null,
            "min_width": null,
            "object_fit": null,
            "object_position": null,
            "order": null,
            "overflow": null,
            "overflow_x": null,
            "overflow_y": null,
            "padding": null,
            "right": null,
            "top": null,
            "visibility": null,
            "width": null
          }
        },
        "d31049797eba4954919cd74b52c8407d": {
          "model_module": "@jupyter-widgets/base",
          "model_name": "LayoutModel",
          "model_module_version": "1.2.0",
          "state": {
            "_model_module": "@jupyter-widgets/base",
            "_model_module_version": "1.2.0",
            "_model_name": "LayoutModel",
            "_view_count": null,
            "_view_module": "@jupyter-widgets/base",
            "_view_module_version": "1.2.0",
            "_view_name": "LayoutView",
            "align_content": null,
            "align_items": null,
            "align_self": null,
            "border": null,
            "bottom": null,
            "display": null,
            "flex": null,
            "flex_flow": null,
            "grid_area": null,
            "grid_auto_columns": null,
            "grid_auto_flow": null,
            "grid_auto_rows": null,
            "grid_column": null,
            "grid_gap": null,
            "grid_row": null,
            "grid_template_areas": null,
            "grid_template_columns": null,
            "grid_template_rows": null,
            "height": null,
            "justify_content": null,
            "justify_items": null,
            "left": null,
            "margin": null,
            "max_height": null,
            "max_width": null,
            "min_height": null,
            "min_width": null,
            "object_fit": null,
            "object_position": null,
            "order": null,
            "overflow": null,
            "overflow_x": null,
            "overflow_y": null,
            "padding": null,
            "right": null,
            "top": null,
            "visibility": null,
            "width": null
          }
        },
        "0e754112c56242248f9e81f65a6ab942": {
          "model_module": "@jupyter-widgets/controls",
          "model_name": "DescriptionStyleModel",
          "model_module_version": "1.5.0",
          "state": {
            "_model_module": "@jupyter-widgets/controls",
            "_model_module_version": "1.5.0",
            "_model_name": "DescriptionStyleModel",
            "_view_count": null,
            "_view_module": "@jupyter-widgets/base",
            "_view_module_version": "1.2.0",
            "_view_name": "StyleView",
            "description_width": ""
          }
        },
        "a86bdbb7a62e496785b1ef4e2ff1e2e4": {
          "model_module": "@jupyter-widgets/base",
          "model_name": "LayoutModel",
          "model_module_version": "1.2.0",
          "state": {
            "_model_module": "@jupyter-widgets/base",
            "_model_module_version": "1.2.0",
            "_model_name": "LayoutModel",
            "_view_count": null,
            "_view_module": "@jupyter-widgets/base",
            "_view_module_version": "1.2.0",
            "_view_name": "LayoutView",
            "align_content": null,
            "align_items": null,
            "align_self": null,
            "border": null,
            "bottom": null,
            "display": null,
            "flex": null,
            "flex_flow": null,
            "grid_area": null,
            "grid_auto_columns": null,
            "grid_auto_flow": null,
            "grid_auto_rows": null,
            "grid_column": null,
            "grid_gap": null,
            "grid_row": null,
            "grid_template_areas": null,
            "grid_template_columns": null,
            "grid_template_rows": null,
            "height": null,
            "justify_content": null,
            "justify_items": null,
            "left": null,
            "margin": null,
            "max_height": null,
            "max_width": null,
            "min_height": null,
            "min_width": null,
            "object_fit": null,
            "object_position": null,
            "order": null,
            "overflow": null,
            "overflow_x": null,
            "overflow_y": null,
            "padding": null,
            "right": null,
            "top": null,
            "visibility": null,
            "width": null
          }
        },
        "5aa157bdacb64a8cb4cd4b4de441dc77": {
          "model_module": "@jupyter-widgets/controls",
          "model_name": "ProgressStyleModel",
          "model_module_version": "1.5.0",
          "state": {
            "_model_module": "@jupyter-widgets/controls",
            "_model_module_version": "1.5.0",
            "_model_name": "ProgressStyleModel",
            "_view_count": null,
            "_view_module": "@jupyter-widgets/base",
            "_view_module_version": "1.2.0",
            "_view_name": "StyleView",
            "bar_color": null,
            "description_width": ""
          }
        },
        "622b5b2a65e748a9ad2f70e91b0002d1": {
          "model_module": "@jupyter-widgets/base",
          "model_name": "LayoutModel",
          "model_module_version": "1.2.0",
          "state": {
            "_model_module": "@jupyter-widgets/base",
            "_model_module_version": "1.2.0",
            "_model_name": "LayoutModel",
            "_view_count": null,
            "_view_module": "@jupyter-widgets/base",
            "_view_module_version": "1.2.0",
            "_view_name": "LayoutView",
            "align_content": null,
            "align_items": null,
            "align_self": null,
            "border": null,
            "bottom": null,
            "display": null,
            "flex": null,
            "flex_flow": null,
            "grid_area": null,
            "grid_auto_columns": null,
            "grid_auto_flow": null,
            "grid_auto_rows": null,
            "grid_column": null,
            "grid_gap": null,
            "grid_row": null,
            "grid_template_areas": null,
            "grid_template_columns": null,
            "grid_template_rows": null,
            "height": null,
            "justify_content": null,
            "justify_items": null,
            "left": null,
            "margin": null,
            "max_height": null,
            "max_width": null,
            "min_height": null,
            "min_width": null,
            "object_fit": null,
            "object_position": null,
            "order": null,
            "overflow": null,
            "overflow_x": null,
            "overflow_y": null,
            "padding": null,
            "right": null,
            "top": null,
            "visibility": null,
            "width": null
          }
        },
        "d32486eb2a1d4dc3afd3ae7ec6ce4e98": {
          "model_module": "@jupyter-widgets/controls",
          "model_name": "DescriptionStyleModel",
          "model_module_version": "1.5.0",
          "state": {
            "_model_module": "@jupyter-widgets/controls",
            "_model_module_version": "1.5.0",
            "_model_name": "DescriptionStyleModel",
            "_view_count": null,
            "_view_module": "@jupyter-widgets/base",
            "_view_module_version": "1.2.0",
            "_view_name": "StyleView",
            "description_width": ""
          }
        },
        "0199cf4716924fc7a5637a3f1305070a": {
          "model_module": "@jupyter-widgets/controls",
          "model_name": "HBoxModel",
          "model_module_version": "1.5.0",
          "state": {
            "_dom_classes": [],
            "_model_module": "@jupyter-widgets/controls",
            "_model_module_version": "1.5.0",
            "_model_name": "HBoxModel",
            "_view_count": null,
            "_view_module": "@jupyter-widgets/controls",
            "_view_module_version": "1.5.0",
            "_view_name": "HBoxView",
            "box_style": "",
            "children": [
              "IPY_MODEL_f0dce378773d4a969520871f702347e8",
              "IPY_MODEL_9815fbf463e94877b4412ad924231a7c",
              "IPY_MODEL_ac62cbf54e6540a59e17a203a1c446cc"
            ],
            "layout": "IPY_MODEL_9e5a0d2f9b8c41b6a5c36636f6e952d4"
          }
        },
        "f0dce378773d4a969520871f702347e8": {
          "model_module": "@jupyter-widgets/controls",
          "model_name": "HTMLModel",
          "model_module_version": "1.5.0",
          "state": {
            "_dom_classes": [],
            "_model_module": "@jupyter-widgets/controls",
            "_model_module_version": "1.5.0",
            "_model_name": "HTMLModel",
            "_view_count": null,
            "_view_module": "@jupyter-widgets/controls",
            "_view_module_version": "1.5.0",
            "_view_name": "HTMLView",
            "description": "",
            "description_tooltip": null,
            "layout": "IPY_MODEL_9f396f4cd5e14c168417e1cc42c420cf",
            "placeholder": "​",
            "style": "IPY_MODEL_99d2db5465b946d2895c4254d799f247",
            "value": "Downloading (…)olve/main/vocab.json: 100%"
          }
        },
        "9815fbf463e94877b4412ad924231a7c": {
          "model_module": "@jupyter-widgets/controls",
          "model_name": "FloatProgressModel",
          "model_module_version": "1.5.0",
          "state": {
            "_dom_classes": [],
            "_model_module": "@jupyter-widgets/controls",
            "_model_module_version": "1.5.0",
            "_model_name": "FloatProgressModel",
            "_view_count": null,
            "_view_module": "@jupyter-widgets/controls",
            "_view_module_version": "1.5.0",
            "_view_name": "ProgressView",
            "bar_style": "success",
            "description": "",
            "description_tooltip": null,
            "layout": "IPY_MODEL_04b4909f831648e68c6fdc70d2d369ef",
            "max": 898823,
            "min": 0,
            "orientation": "horizontal",
            "style": "IPY_MODEL_c417f5e84a564871a035b64eb6cfb08f",
            "value": 898823
          }
        },
        "ac62cbf54e6540a59e17a203a1c446cc": {
          "model_module": "@jupyter-widgets/controls",
          "model_name": "HTMLModel",
          "model_module_version": "1.5.0",
          "state": {
            "_dom_classes": [],
            "_model_module": "@jupyter-widgets/controls",
            "_model_module_version": "1.5.0",
            "_model_name": "HTMLModel",
            "_view_count": null,
            "_view_module": "@jupyter-widgets/controls",
            "_view_module_version": "1.5.0",
            "_view_name": "HTMLView",
            "description": "",
            "description_tooltip": null,
            "layout": "IPY_MODEL_1ed25c7dabcd46649eb0f2cd01ecdcb7",
            "placeholder": "​",
            "style": "IPY_MODEL_3ce93c495a794717845965bac8536110",
            "value": " 899k/899k [00:00&lt;00:00, 966kB/s]"
          }
        },
        "9e5a0d2f9b8c41b6a5c36636f6e952d4": {
          "model_module": "@jupyter-widgets/base",
          "model_name": "LayoutModel",
          "model_module_version": "1.2.0",
          "state": {
            "_model_module": "@jupyter-widgets/base",
            "_model_module_version": "1.2.0",
            "_model_name": "LayoutModel",
            "_view_count": null,
            "_view_module": "@jupyter-widgets/base",
            "_view_module_version": "1.2.0",
            "_view_name": "LayoutView",
            "align_content": null,
            "align_items": null,
            "align_self": null,
            "border": null,
            "bottom": null,
            "display": null,
            "flex": null,
            "flex_flow": null,
            "grid_area": null,
            "grid_auto_columns": null,
            "grid_auto_flow": null,
            "grid_auto_rows": null,
            "grid_column": null,
            "grid_gap": null,
            "grid_row": null,
            "grid_template_areas": null,
            "grid_template_columns": null,
            "grid_template_rows": null,
            "height": null,
            "justify_content": null,
            "justify_items": null,
            "left": null,
            "margin": null,
            "max_height": null,
            "max_width": null,
            "min_height": null,
            "min_width": null,
            "object_fit": null,
            "object_position": null,
            "order": null,
            "overflow": null,
            "overflow_x": null,
            "overflow_y": null,
            "padding": null,
            "right": null,
            "top": null,
            "visibility": null,
            "width": null
          }
        },
        "9f396f4cd5e14c168417e1cc42c420cf": {
          "model_module": "@jupyter-widgets/base",
          "model_name": "LayoutModel",
          "model_module_version": "1.2.0",
          "state": {
            "_model_module": "@jupyter-widgets/base",
            "_model_module_version": "1.2.0",
            "_model_name": "LayoutModel",
            "_view_count": null,
            "_view_module": "@jupyter-widgets/base",
            "_view_module_version": "1.2.0",
            "_view_name": "LayoutView",
            "align_content": null,
            "align_items": null,
            "align_self": null,
            "border": null,
            "bottom": null,
            "display": null,
            "flex": null,
            "flex_flow": null,
            "grid_area": null,
            "grid_auto_columns": null,
            "grid_auto_flow": null,
            "grid_auto_rows": null,
            "grid_column": null,
            "grid_gap": null,
            "grid_row": null,
            "grid_template_areas": null,
            "grid_template_columns": null,
            "grid_template_rows": null,
            "height": null,
            "justify_content": null,
            "justify_items": null,
            "left": null,
            "margin": null,
            "max_height": null,
            "max_width": null,
            "min_height": null,
            "min_width": null,
            "object_fit": null,
            "object_position": null,
            "order": null,
            "overflow": null,
            "overflow_x": null,
            "overflow_y": null,
            "padding": null,
            "right": null,
            "top": null,
            "visibility": null,
            "width": null
          }
        },
        "99d2db5465b946d2895c4254d799f247": {
          "model_module": "@jupyter-widgets/controls",
          "model_name": "DescriptionStyleModel",
          "model_module_version": "1.5.0",
          "state": {
            "_model_module": "@jupyter-widgets/controls",
            "_model_module_version": "1.5.0",
            "_model_name": "DescriptionStyleModel",
            "_view_count": null,
            "_view_module": "@jupyter-widgets/base",
            "_view_module_version": "1.2.0",
            "_view_name": "StyleView",
            "description_width": ""
          }
        },
        "04b4909f831648e68c6fdc70d2d369ef": {
          "model_module": "@jupyter-widgets/base",
          "model_name": "LayoutModel",
          "model_module_version": "1.2.0",
          "state": {
            "_model_module": "@jupyter-widgets/base",
            "_model_module_version": "1.2.0",
            "_model_name": "LayoutModel",
            "_view_count": null,
            "_view_module": "@jupyter-widgets/base",
            "_view_module_version": "1.2.0",
            "_view_name": "LayoutView",
            "align_content": null,
            "align_items": null,
            "align_self": null,
            "border": null,
            "bottom": null,
            "display": null,
            "flex": null,
            "flex_flow": null,
            "grid_area": null,
            "grid_auto_columns": null,
            "grid_auto_flow": null,
            "grid_auto_rows": null,
            "grid_column": null,
            "grid_gap": null,
            "grid_row": null,
            "grid_template_areas": null,
            "grid_template_columns": null,
            "grid_template_rows": null,
            "height": null,
            "justify_content": null,
            "justify_items": null,
            "left": null,
            "margin": null,
            "max_height": null,
            "max_width": null,
            "min_height": null,
            "min_width": null,
            "object_fit": null,
            "object_position": null,
            "order": null,
            "overflow": null,
            "overflow_x": null,
            "overflow_y": null,
            "padding": null,
            "right": null,
            "top": null,
            "visibility": null,
            "width": null
          }
        },
        "c417f5e84a564871a035b64eb6cfb08f": {
          "model_module": "@jupyter-widgets/controls",
          "model_name": "ProgressStyleModel",
          "model_module_version": "1.5.0",
          "state": {
            "_model_module": "@jupyter-widgets/controls",
            "_model_module_version": "1.5.0",
            "_model_name": "ProgressStyleModel",
            "_view_count": null,
            "_view_module": "@jupyter-widgets/base",
            "_view_module_version": "1.2.0",
            "_view_name": "StyleView",
            "bar_color": null,
            "description_width": ""
          }
        },
        "1ed25c7dabcd46649eb0f2cd01ecdcb7": {
          "model_module": "@jupyter-widgets/base",
          "model_name": "LayoutModel",
          "model_module_version": "1.2.0",
          "state": {
            "_model_module": "@jupyter-widgets/base",
            "_model_module_version": "1.2.0",
            "_model_name": "LayoutModel",
            "_view_count": null,
            "_view_module": "@jupyter-widgets/base",
            "_view_module_version": "1.2.0",
            "_view_name": "LayoutView",
            "align_content": null,
            "align_items": null,
            "align_self": null,
            "border": null,
            "bottom": null,
            "display": null,
            "flex": null,
            "flex_flow": null,
            "grid_area": null,
            "grid_auto_columns": null,
            "grid_auto_flow": null,
            "grid_auto_rows": null,
            "grid_column": null,
            "grid_gap": null,
            "grid_row": null,
            "grid_template_areas": null,
            "grid_template_columns": null,
            "grid_template_rows": null,
            "height": null,
            "justify_content": null,
            "justify_items": null,
            "left": null,
            "margin": null,
            "max_height": null,
            "max_width": null,
            "min_height": null,
            "min_width": null,
            "object_fit": null,
            "object_position": null,
            "order": null,
            "overflow": null,
            "overflow_x": null,
            "overflow_y": null,
            "padding": null,
            "right": null,
            "top": null,
            "visibility": null,
            "width": null
          }
        },
        "3ce93c495a794717845965bac8536110": {
          "model_module": "@jupyter-widgets/controls",
          "model_name": "DescriptionStyleModel",
          "model_module_version": "1.5.0",
          "state": {
            "_model_module": "@jupyter-widgets/controls",
            "_model_module_version": "1.5.0",
            "_model_name": "DescriptionStyleModel",
            "_view_count": null,
            "_view_module": "@jupyter-widgets/base",
            "_view_module_version": "1.2.0",
            "_view_name": "StyleView",
            "description_width": ""
          }
        },
        "266993ed26d444de946b07a4ef2e0224": {
          "model_module": "@jupyter-widgets/controls",
          "model_name": "HBoxModel",
          "model_module_version": "1.5.0",
          "state": {
            "_dom_classes": [],
            "_model_module": "@jupyter-widgets/controls",
            "_model_module_version": "1.5.0",
            "_model_name": "HBoxModel",
            "_view_count": null,
            "_view_module": "@jupyter-widgets/controls",
            "_view_module_version": "1.5.0",
            "_view_name": "HBoxView",
            "box_style": "",
            "children": [
              "IPY_MODEL_6f44a2c3eabb45139d3d5f2ce74524b9",
              "IPY_MODEL_3966cbe54d56450ab0b77a04e2a91bac",
              "IPY_MODEL_d3f8105ae672416486af376f9e8bd2f9"
            ],
            "layout": "IPY_MODEL_d03dc62538bf446092e3a6e5a86e0396"
          }
        },
        "6f44a2c3eabb45139d3d5f2ce74524b9": {
          "model_module": "@jupyter-widgets/controls",
          "model_name": "HTMLModel",
          "model_module_version": "1.5.0",
          "state": {
            "_dom_classes": [],
            "_model_module": "@jupyter-widgets/controls",
            "_model_module_version": "1.5.0",
            "_model_name": "HTMLModel",
            "_view_count": null,
            "_view_module": "@jupyter-widgets/controls",
            "_view_module_version": "1.5.0",
            "_view_name": "HTMLView",
            "description": "",
            "description_tooltip": null,
            "layout": "IPY_MODEL_ddfe6bfb8e384de488b5c7f5b37314aa",
            "placeholder": "​",
            "style": "IPY_MODEL_63bcbae91e084385b8f8c4ba1cbefa67",
            "value": "Downloading (…)olve/main/merges.txt: 100%"
          }
        },
        "3966cbe54d56450ab0b77a04e2a91bac": {
          "model_module": "@jupyter-widgets/controls",
          "model_name": "FloatProgressModel",
          "model_module_version": "1.5.0",
          "state": {
            "_dom_classes": [],
            "_model_module": "@jupyter-widgets/controls",
            "_model_module_version": "1.5.0",
            "_model_name": "FloatProgressModel",
            "_view_count": null,
            "_view_module": "@jupyter-widgets/controls",
            "_view_module_version": "1.5.0",
            "_view_name": "ProgressView",
            "bar_style": "success",
            "description": "",
            "description_tooltip": null,
            "layout": "IPY_MODEL_3ade750e69af41b3be7a2643d954518f",
            "max": 456318,
            "min": 0,
            "orientation": "horizontal",
            "style": "IPY_MODEL_eafb99255cdb4995a2fe21c210cfd233",
            "value": 456318
          }
        },
        "d3f8105ae672416486af376f9e8bd2f9": {
          "model_module": "@jupyter-widgets/controls",
          "model_name": "HTMLModel",
          "model_module_version": "1.5.0",
          "state": {
            "_dom_classes": [],
            "_model_module": "@jupyter-widgets/controls",
            "_model_module_version": "1.5.0",
            "_model_name": "HTMLModel",
            "_view_count": null,
            "_view_module": "@jupyter-widgets/controls",
            "_view_module_version": "1.5.0",
            "_view_name": "HTMLView",
            "description": "",
            "description_tooltip": null,
            "layout": "IPY_MODEL_178270a294c947c0ac5e83a28cb3aa1f",
            "placeholder": "​",
            "style": "IPY_MODEL_edc9c979095f403986c15944fdb033eb",
            "value": " 456k/456k [00:00&lt;00:00, 1.95MB/s]"
          }
        },
        "d03dc62538bf446092e3a6e5a86e0396": {
          "model_module": "@jupyter-widgets/base",
          "model_name": "LayoutModel",
          "model_module_version": "1.2.0",
          "state": {
            "_model_module": "@jupyter-widgets/base",
            "_model_module_version": "1.2.0",
            "_model_name": "LayoutModel",
            "_view_count": null,
            "_view_module": "@jupyter-widgets/base",
            "_view_module_version": "1.2.0",
            "_view_name": "LayoutView",
            "align_content": null,
            "align_items": null,
            "align_self": null,
            "border": null,
            "bottom": null,
            "display": null,
            "flex": null,
            "flex_flow": null,
            "grid_area": null,
            "grid_auto_columns": null,
            "grid_auto_flow": null,
            "grid_auto_rows": null,
            "grid_column": null,
            "grid_gap": null,
            "grid_row": null,
            "grid_template_areas": null,
            "grid_template_columns": null,
            "grid_template_rows": null,
            "height": null,
            "justify_content": null,
            "justify_items": null,
            "left": null,
            "margin": null,
            "max_height": null,
            "max_width": null,
            "min_height": null,
            "min_width": null,
            "object_fit": null,
            "object_position": null,
            "order": null,
            "overflow": null,
            "overflow_x": null,
            "overflow_y": null,
            "padding": null,
            "right": null,
            "top": null,
            "visibility": null,
            "width": null
          }
        },
        "ddfe6bfb8e384de488b5c7f5b37314aa": {
          "model_module": "@jupyter-widgets/base",
          "model_name": "LayoutModel",
          "model_module_version": "1.2.0",
          "state": {
            "_model_module": "@jupyter-widgets/base",
            "_model_module_version": "1.2.0",
            "_model_name": "LayoutModel",
            "_view_count": null,
            "_view_module": "@jupyter-widgets/base",
            "_view_module_version": "1.2.0",
            "_view_name": "LayoutView",
            "align_content": null,
            "align_items": null,
            "align_self": null,
            "border": null,
            "bottom": null,
            "display": null,
            "flex": null,
            "flex_flow": null,
            "grid_area": null,
            "grid_auto_columns": null,
            "grid_auto_flow": null,
            "grid_auto_rows": null,
            "grid_column": null,
            "grid_gap": null,
            "grid_row": null,
            "grid_template_areas": null,
            "grid_template_columns": null,
            "grid_template_rows": null,
            "height": null,
            "justify_content": null,
            "justify_items": null,
            "left": null,
            "margin": null,
            "max_height": null,
            "max_width": null,
            "min_height": null,
            "min_width": null,
            "object_fit": null,
            "object_position": null,
            "order": null,
            "overflow": null,
            "overflow_x": null,
            "overflow_y": null,
            "padding": null,
            "right": null,
            "top": null,
            "visibility": null,
            "width": null
          }
        },
        "63bcbae91e084385b8f8c4ba1cbefa67": {
          "model_module": "@jupyter-widgets/controls",
          "model_name": "DescriptionStyleModel",
          "model_module_version": "1.5.0",
          "state": {
            "_model_module": "@jupyter-widgets/controls",
            "_model_module_version": "1.5.0",
            "_model_name": "DescriptionStyleModel",
            "_view_count": null,
            "_view_module": "@jupyter-widgets/base",
            "_view_module_version": "1.2.0",
            "_view_name": "StyleView",
            "description_width": ""
          }
        },
        "3ade750e69af41b3be7a2643d954518f": {
          "model_module": "@jupyter-widgets/base",
          "model_name": "LayoutModel",
          "model_module_version": "1.2.0",
          "state": {
            "_model_module": "@jupyter-widgets/base",
            "_model_module_version": "1.2.0",
            "_model_name": "LayoutModel",
            "_view_count": null,
            "_view_module": "@jupyter-widgets/base",
            "_view_module_version": "1.2.0",
            "_view_name": "LayoutView",
            "align_content": null,
            "align_items": null,
            "align_self": null,
            "border": null,
            "bottom": null,
            "display": null,
            "flex": null,
            "flex_flow": null,
            "grid_area": null,
            "grid_auto_columns": null,
            "grid_auto_flow": null,
            "grid_auto_rows": null,
            "grid_column": null,
            "grid_gap": null,
            "grid_row": null,
            "grid_template_areas": null,
            "grid_template_columns": null,
            "grid_template_rows": null,
            "height": null,
            "justify_content": null,
            "justify_items": null,
            "left": null,
            "margin": null,
            "max_height": null,
            "max_width": null,
            "min_height": null,
            "min_width": null,
            "object_fit": null,
            "object_position": null,
            "order": null,
            "overflow": null,
            "overflow_x": null,
            "overflow_y": null,
            "padding": null,
            "right": null,
            "top": null,
            "visibility": null,
            "width": null
          }
        },
        "eafb99255cdb4995a2fe21c210cfd233": {
          "model_module": "@jupyter-widgets/controls",
          "model_name": "ProgressStyleModel",
          "model_module_version": "1.5.0",
          "state": {
            "_model_module": "@jupyter-widgets/controls",
            "_model_module_version": "1.5.0",
            "_model_name": "ProgressStyleModel",
            "_view_count": null,
            "_view_module": "@jupyter-widgets/base",
            "_view_module_version": "1.2.0",
            "_view_name": "StyleView",
            "bar_color": null,
            "description_width": ""
          }
        },
        "178270a294c947c0ac5e83a28cb3aa1f": {
          "model_module": "@jupyter-widgets/base",
          "model_name": "LayoutModel",
          "model_module_version": "1.2.0",
          "state": {
            "_model_module": "@jupyter-widgets/base",
            "_model_module_version": "1.2.0",
            "_model_name": "LayoutModel",
            "_view_count": null,
            "_view_module": "@jupyter-widgets/base",
            "_view_module_version": "1.2.0",
            "_view_name": "LayoutView",
            "align_content": null,
            "align_items": null,
            "align_self": null,
            "border": null,
            "bottom": null,
            "display": null,
            "flex": null,
            "flex_flow": null,
            "grid_area": null,
            "grid_auto_columns": null,
            "grid_auto_flow": null,
            "grid_auto_rows": null,
            "grid_column": null,
            "grid_gap": null,
            "grid_row": null,
            "grid_template_areas": null,
            "grid_template_columns": null,
            "grid_template_rows": null,
            "height": null,
            "justify_content": null,
            "justify_items": null,
            "left": null,
            "margin": null,
            "max_height": null,
            "max_width": null,
            "min_height": null,
            "min_width": null,
            "object_fit": null,
            "object_position": null,
            "order": null,
            "overflow": null,
            "overflow_x": null,
            "overflow_y": null,
            "padding": null,
            "right": null,
            "top": null,
            "visibility": null,
            "width": null
          }
        },
        "edc9c979095f403986c15944fdb033eb": {
          "model_module": "@jupyter-widgets/controls",
          "model_name": "DescriptionStyleModel",
          "model_module_version": "1.5.0",
          "state": {
            "_model_module": "@jupyter-widgets/controls",
            "_model_module_version": "1.5.0",
            "_model_name": "DescriptionStyleModel",
            "_view_count": null,
            "_view_module": "@jupyter-widgets/base",
            "_view_module_version": "1.2.0",
            "_view_name": "StyleView",
            "description_width": ""
          }
        }
      }
    },
    "accelerator": "GPU"
  },
  "nbformat": 4,
  "nbformat_minor": 5
}